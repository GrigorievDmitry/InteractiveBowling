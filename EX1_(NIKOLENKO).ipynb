{
  "nbformat": 4,
  "nbformat_minor": 0,
  "metadata": {
    "colab": {
      "name": "EX1 (NIKOLENKO).ipynb",
      "provenance": [],
      "authorship_tag": "ABX9TyNugUqfgL4rX4P9uvXA4DYw",
      "include_colab_link": true
    },
    "kernelspec": {
      "name": "python3",
      "display_name": "Python 3"
    },
    "accelerator": "GPU"
  },
  "cells": [
    {
      "cell_type": "markdown",
      "metadata": {
        "id": "view-in-github",
        "colab_type": "text"
      },
      "source": [
        "<a href=\"https://colab.research.google.com/github/GrigorievDmitry/InteractiveBowlingProject/blob/master/EX1_(NIKOLENKO).ipynb\" target=\"_parent\"><img src=\"https://colab.research.google.com/assets/colab-badge.svg\" alt=\"Open In Colab\"/></a>"
      ]
    },
    {
      "cell_type": "code",
      "metadata": {
        "id": "UZtjseaY8OuK",
        "colab_type": "code",
        "colab": {}
      },
      "source": [
        "\n",
        "import numpy as np\n",
        "from matplotlib import pyplot as plt\n",
        "\n",
        "import IPython.display as display \n",
        "import tensorflow as tf \n",
        "\n",
        "#See tensorflow2 documentation on  https://www.tensorflow.orghttps://www.tensorflow.org #\n",
        "\n",
        "#TF2 builtin assembler - keras lib#\n",
        "from tensorflow.keras import layers as L\n",
        "from tensorflow.keras import Sequential\n",
        "from tensorflow.keras.activations import relu, softmax \n",
        "from tensorflow.keras.losses import MSE\n",
        " # see optimizers #\n",
        "from tensorflow.keras.optimizers import Adam\n",
        "from tensorflow.keras.optimizers import SGD\n",
        "\n"
      ],
      "execution_count": 2,
      "outputs": []
    },
    {
      "cell_type": "code",
      "metadata": {
        "id": "XaRnhmzpBi-m",
        "colab_type": "code",
        "colab": {}
      },
      "source": [
        "#Simple example  - Linear regression # - see Nikolenko \n",
        "n_samples,batch_size,num_steps = 10000,200,20000 \n",
        "X_data = np.random.uniform(0,10,(n_samples,1))\n",
        "Y_data = np.sqrt(2)*X_data**2 + 2 + np.random.normal(0,0.1, (n_samples,1))"
      ],
      "execution_count": 3,
      "outputs": []
    },
    {
      "cell_type": "code",
      "metadata": {
        "id": "bsUb81TlScR4",
        "colab_type": "code",
        "colab": {}
      },
      "source": [
        ""
      ],
      "execution_count": null,
      "outputs": []
    },
    {
      "cell_type": "code",
      "metadata": {
        "id": "c8t0So4OLRcf",
        "colab_type": "code",
        "colab": {}
      },
      "source": [
        "# model Regreesion coef:\n",
        "#Weights definition - manual#\n",
        "a = tf.Variable(tf.random.normal((1,)))\n",
        "b = tf.Variable(tf.zeros((1,)))"
      ],
      "execution_count": 4,
      "outputs": []
    },
    {
      "cell_type": "code",
      "metadata": {
        "id": "981cQpvwkJua",
        "colab_type": "code",
        "colab": {}
      },
      "source": [
        "#I reccomend to check shapes of ALL thesors that you are using in your code! #"
      ],
      "execution_count": 5,
      "outputs": []
    },
    {
      "cell_type": "code",
      "metadata": {
        "id": "cGcJwe8EEZq8",
        "colab_type": "code",
        "colab": {}
      },
      "source": [
        "optimizer = Adam(learning_rate=0.001)\n",
        "#optimizer = SGD(learning_rate=0.01, momentum=0.01)\n",
        "#Gradient Tape - very usfull tool for automatical diffirentiation!  \n",
        "# For details look at  https://www.tensorflow.org/guide/autodiff\n",
        "\n",
        "def train_step(batch):\n",
        "    with tf.GradientTape() as g:\n",
        "        y_pred = a * (X_data[batch])**2 + b # Predicted values based on our linear model#\n",
        "        loss = tf.reduce_mean(MSE(Y_data[batch],y_pred)) # We introduce Custom LOSS manually  using gradient tape !!! - it is very powerfull for your prctical  goals # \n",
        "        #loss = tf.reduce_sum((Y_data[batch] - y_pred)**2)\n",
        "    gradient = g.gradient(loss,[a,b]) #READ DOCS #\n",
        "    optimizer.apply_gradients(zip(gradient, [a,b])) # READ DOCS !!! #\n",
        "    #step_count = opt.minimize(loss, [a,b]).numpy()\n",
        "    return loss"
      ],
      "execution_count": 6,
      "outputs": []
    },
    {
      "cell_type": "code",
      "metadata": {
        "id": "-2QamTCiFN9X",
        "colab_type": "code",
        "colab": {
          "base_uri": "https://localhost:8080/",
          "height": 697
        },
        "outputId": "929bacd1-5573-400d-d7a6-8ff6cec0cb27"
      },
      "source": [
        "display_step = 500\n",
        "for epoch in range(num_steps):\n",
        "    indices = np.random.choice(n_samples,batch_size)\n",
        "    loss = train_step(indices)\n",
        "    if (epoch) % display_step ==0:\n",
        "        p = [epoch,loss]\n",
        "        print(\"Epoch: {}, Loss: {} \".format(*p))\n"
      ],
      "execution_count": 7,
      "outputs": [
        {
          "output_type": "stream",
          "text": [
            "Epoch: 0, Loss: 2692.844970703125 \n",
            "Epoch: 500, Loss: 1064.2734375 \n",
            "Epoch: 1000, Loss: 354.9898681640625 \n",
            "Epoch: 1500, Loss: 60.091434478759766 \n",
            "Epoch: 2000, Loss: 6.112147331237793 \n",
            "Epoch: 2500, Loss: 0.5913348197937012 \n",
            "Epoch: 3000, Loss: 0.2785409390926361 \n",
            "Epoch: 3500, Loss: 0.29316967725753784 \n",
            "Epoch: 4000, Loss: 0.2529168725013733 \n",
            "Epoch: 4500, Loss: 0.25260356068611145 \n",
            "Epoch: 5000, Loss: 0.20579370856285095 \n",
            "Epoch: 5500, Loss: 0.187638059258461 \n",
            "Epoch: 6000, Loss: 0.13006676733493805 \n",
            "Epoch: 6500, Loss: 0.10838807374238968 \n",
            "Epoch: 7000, Loss: 0.07905521243810654 \n",
            "Epoch: 7500, Loss: 0.05186718329787254 \n",
            "Epoch: 8000, Loss: 0.03686824440956116 \n",
            "Epoch: 8500, Loss: 0.022813057526946068 \n",
            "Epoch: 9000, Loss: 0.01318604126572609 \n",
            "Epoch: 9500, Loss: 0.01038309559226036 \n",
            "Epoch: 10000, Loss: 0.010936271399259567 \n",
            "Epoch: 10500, Loss: 0.011374085210263729 \n",
            "Epoch: 11000, Loss: 0.00987222045660019 \n",
            "Epoch: 11500, Loss: 0.009082313627004623 \n",
            "Epoch: 12000, Loss: 0.010259609669446945 \n",
            "Epoch: 12500, Loss: 0.009529425762593746 \n",
            "Epoch: 13000, Loss: 0.009478221647441387 \n",
            "Epoch: 13500, Loss: 0.011449580080807209 \n",
            "Epoch: 14000, Loss: 0.010426691733300686 \n",
            "Epoch: 14500, Loss: 0.010130698792636395 \n",
            "Epoch: 15000, Loss: 0.011216399259865284 \n",
            "Epoch: 15500, Loss: 0.009868425317108631 \n",
            "Epoch: 16000, Loss: 0.010334636084735394 \n",
            "Epoch: 16500, Loss: 0.008797358721494675 \n",
            "Epoch: 17000, Loss: 0.009778200648725033 \n",
            "Epoch: 17500, Loss: 0.012287645600736141 \n",
            "Epoch: 18000, Loss: 0.008946523070335388 \n",
            "Epoch: 18500, Loss: 0.011061634868383408 \n",
            "Epoch: 19000, Loss: 0.010760716162621975 \n",
            "Epoch: 19500, Loss: 0.011336312629282475 \n"
          ],
          "name": "stdout"
        }
      ]
    },
    {
      "cell_type": "code",
      "metadata": {
        "id": "4iSSq-NdKH9h",
        "colab_type": "code",
        "colab": {
          "base_uri": "https://localhost:8080/",
          "height": 68
        },
        "outputId": "6197e8ff-d29e-4f61-90e3-6be2b9c5de86"
      },
      "source": [
        "#Check Your results#\n",
        "tf.print(a - np.sqrt(2),b - 2)\n",
        "tf.print(a)\n",
        "tf.print(b)"
      ],
      "execution_count": 8,
      "outputs": [
        {
          "output_type": "stream",
          "text": [
            "[-8.57114792e-05] [0.000359535217]\n",
            "[1.41412783]\n",
            "[2.00035954]\n"
          ],
          "name": "stdout"
        }
      ]
    },
    {
      "cell_type": "code",
      "metadata": {
        "id": "PIyT47YUawy5",
        "colab_type": "code",
        "colab": {}
      },
      "source": [
        ""
      ],
      "execution_count": null,
      "outputs": []
    }
  ]
}